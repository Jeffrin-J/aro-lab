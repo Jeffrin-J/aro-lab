{
 "cells": [
  {
   "cell_type": "code",
   "execution_count": 1,
   "id": "ea103c11",
   "metadata": {},
   "outputs": [
    {
     "name": "stderr",
     "output_type": "stream",
     "text": [
      "pybullet build time: Sep 22 2025 15:07:41\n"
     ]
    }
   ],
   "source": [
    "import pinocchio as pin \n",
    "import numpy as np\n",
    "from numpy.linalg import pinv,inv,norm,svd,eig\n",
    "from tools import collision, getcubeplacement, setcubeplacement, projecttojointlimits\n",
    "from config import LEFT_HOOK, RIGHT_HOOK, LEFT_HAND, RIGHT_HAND, EPSILON\n",
    "from config import CUBE_PLACEMENT, CUBE_PLACEMENT_TARGET\n",
    "\n",
    "from tools import setcubeplacement"
   ]
  },
  {
   "cell_type": "code",
   "execution_count": 2,
   "id": "ad5c7229",
   "metadata": {},
   "outputs": [],
   "source": [
    "def find_collision_free_gradient(robot, q_init, max_iterations=50, step_size=0.05):\n",
    "    \"\"\"\n",
    "    Find collision-free configuration using gradient-based approach.\n",
    "    Moves away from collision by checking collision distances.\n",
    "    \n",
    "    Parameters:\n",
    "    -----------\n",
    "    robot : robot model with collision checking\n",
    "    q_init : initial configuration (possibly in collision)\n",
    "    max_iterations : maximum number of gradient steps\n",
    "    step_size : step size for gradient descent\n",
    "    \n",
    "    Returns:\n",
    "    --------\n",
    "    q_free : collision-free configuration\n",
    "    success : boolean indicating if a solution was found\n",
    "    \"\"\"\n",
    "    \n",
    "    def coll(q):\n",
    "        \"\"\"Check if configuration is in collision\"\"\"\n",
    "        pin.updateGeometryPlacements(robot.model, robot.data, \n",
    "                                     robot.collision_model, robot.collision_data, q)\n",
    "        return pin.computeCollisions(robot.collision_model, robot.collision_data, False)\n",
    "    \n",
    "    if not coll(q_init):\n",
    "        return q_init.copy(), True\n",
    "    \n",
    "    q = q_init.copy()\n",
    "    \n",
    "    for i in range(max_iterations):\n",
    "        # Compute numerical gradient\n",
    "        gradient = np.zeros(len(q))\n",
    "        \n",
    "        for j in range(len(q)):\n",
    "            q_plus = q.copy()\n",
    "            q_minus = q.copy()\n",
    "            \n",
    "            delta = 0.01\n",
    "            q_plus[j] += delta\n",
    "            q_minus[j] -= delta\n",
    "            \n",
    "            # Simple collision score (0 if free, 1 if collision)\n",
    "            score_plus = 1.0 if coll(q_plus) else 0.0\n",
    "            score_minus = 1.0 if coll(q_minus) else 0.0\n",
    "            \n",
    "            gradient[j] = (score_plus - score_minus) / (2 * delta)\n",
    "        \n",
    "        # Move away from collision\n",
    "        if np.linalg.norm(gradient) > 1e-6:\n",
    "            q = q - step_size * gradient / np.linalg.norm(gradient)\n",
    "        else:\n",
    "            # Add random perturbation if stuck\n",
    "            q = q + np.random.randn(len(q)) * 0.02\n",
    "        \n",
    "        # Project to joint limits\n",
    "        q = np.clip(q, robot.model.lowerPositionLimit, robot.model.upperPositionLimit)\n",
    "        \n",
    "        if not coll(q):\n",
    "            print(f\"Found collision-free config after {i+1} gradient steps\")\n",
    "            print(f\"Max joint deviation: {np.max(np.abs(q - q_init)):.4f} rad\")\n",
    "            return q, True\n",
    "    \n",
    "    print(f\"Could not find collision-free config after {max_iterations} gradient steps\")\n",
    "    return q, False"
   ]
  },
  {
   "cell_type": "code",
   "execution_count": 3,
   "id": "585baab3",
   "metadata": {},
   "outputs": [],
   "source": [
    "def computeqgrasppose(robot, qcurrent, cube, cubetarget, viz=None):\n",
    "    '''Return a collision free configuration grasping a cube at a specific location and a success flag'''\n",
    "    setcubeplacement(robot, cube, cubetarget)\n",
    "    q , success = find_collision_free_gradient(robot, qcurrent, 1000)\n",
    "    print(q)\n",
    "    viz.display(q)\n",
    "    return q, False"
   ]
  },
  {
   "cell_type": "code",
   "execution_count": 4,
   "id": "e5296fb3",
   "metadata": {},
   "outputs": [],
   "source": [
    "def distance(q1,q2):    \n",
    "    '''Return the euclidian distance between two configurations'''\n",
    "    return np.linalg.norm(q2-q1)\n",
    "        \n",
    "def NEAREST_VERTEX(G,q_rand):\n",
    "    '''returns the index of the Node of G with the configuration closest to q_rand  '''\n",
    "    min_dist = 10e4\n",
    "    idx=-1\n",
    "    for (i,node) in enumerate(G):\n",
    "        dist = distance(node[1],q_rand) \n",
    "        if dist < min_dist:\n",
    "            min_dist = dist\n",
    "            idx = i\n",
    "    return idx"
   ]
  },
  {
   "cell_type": "code",
   "execution_count": 5,
   "id": "49aaf0c7",
   "metadata": {},
   "outputs": [],
   "source": [
    "def ADD_EDGE_AND_VERTEX(G,parent,q):\n",
    "    G += [(parent,q)]"
   ]
  },
  {
   "cell_type": "code",
   "execution_count": 6,
   "id": "1674117c",
   "metadata": {},
   "outputs": [],
   "source": [
    "# %load tp4/generated/rrt_new_conf_valid_edge\n",
    "def lerp(q0,q1,t):    \n",
    "    return q0 * (1 - t) + q1 * t\n",
    "\n",
    "def NEW_CONF(q_near,q_rand,discretisationsteps, delta_q = None):\n",
    "    '''Return the closest configuration q_new such that the path q_near => q_new is the longest\n",
    "    along the linear interpolation (q_near,q_rand) that is collision free and of length <  delta_q'''\n",
    "    q_end = q_rand.copy()\n",
    "    dist = distance(q_near, q_rand)\n",
    "    if delta_q is not None and dist > delta_q:\n",
    "        #compute the configuration that corresponds to a path of length delta_q\n",
    "        q_end = lerp(q_near,q_rand,delta_q/dist)\n",
    "        # now dist == delta_q\n",
    "    dt = 1 / discretisationsteps\n",
    "    for i in range(1,discretisationsteps):\n",
    "        q = lerp(q_near,q_end,dt*i)\n",
    "        if coll(q):\n",
    "            return lerp(q_near,q_end,dt*(i-1))\n",
    "    return q_end\n",
    "\n",
    "\n",
    "def VALID_EDGE(q_new,q_goal,discretisationsteps):\n",
    "    return np.linalg.norm(q_goal -NEW_CONF(q_new, q_goal,discretisationsteps)) < 1e-3\n"
   ]
  },
  {
   "cell_type": "code",
   "execution_count": 7,
   "id": "f99b8740",
   "metadata": {},
   "outputs": [],
   "source": [
    "# %load tp0/generated/simple_path_planning_coll\n",
    "def coll(q):\n",
    "     '''Return true if q in collision, false otherwise.'''\n",
    "     pin.updateGeometryPlacements(robot.model,robot.data,robot.collision_model,robot.collision_data,q)\n",
    "     return pin.computeCollisions(robot.collision_model,robot.collision_data,False)\n",
    "\n",
    "def RAND_CONF(robot, checkcollision=True):\n",
    "    '''\n",
    "    Return a random configuration, not is collision\n",
    "    '''\n",
    "    while True:\n",
    "        q = pin.randomConfiguration(robot.model)  # sample between -3.2 and +3.2.\n",
    "        if not (checkcollision and coll(q)): return q\n",
    "        "
   ]
  },
  {
   "cell_type": "code",
   "execution_count": 11,
   "id": "39abd347",
   "metadata": {},
   "outputs": [],
   "source": [
    "discretisationsteps_newconf = 200 #To tweak later on\n",
    "discretisationsteps_validedge = 200 #To tweak later on\n",
    "k = 1000  #To tweak later on\n",
    "delta_q = 3. #To tweak later on"
   ]
  },
  {
   "cell_type": "code",
   "execution_count": 12,
   "id": "29bb97bd",
   "metadata": {},
   "outputs": [],
   "source": [
    "def rrt(q_init, q_goal, k, delta_q, robot):\n",
    "    G = [(None,q_init)]\n",
    "    for _ in range(k):\n",
    "        q_rand = RAND_CONF(robot)   \n",
    "        q_near_index = NEAREST_VERTEX(G,q_rand)\n",
    "        q_near = G[q_near_index][1]        \n",
    "        q_new = NEW_CONF(q_near,q_rand,discretisationsteps_newconf, delta_q = None)    \n",
    "        ADD_EDGE_AND_VERTEX(G,q_near_index,q_new)\n",
    "        if VALID_EDGE(q_new,q_goal,discretisationsteps_validedge):\n",
    "            print (\"Path found!\")\n",
    "            ADD_EDGE_AND_VERTEX(G,len(G)-1,q_goal)\n",
    "            return G, True\n",
    "    print(\"path not found\")\n",
    "    return G, False\n",
    "            \n",
    "       \n"
   ]
  },
  {
   "cell_type": "code",
   "execution_count": 13,
   "id": "9e2647e0",
   "metadata": {},
   "outputs": [],
   "source": [
    "def getpath(G):\n",
    "    path = []\n",
    "    node = G[-1]\n",
    "    while node[0] is not None:\n",
    "        path = [node[1]] + path\n",
    "        node = G[node[0]]\n",
    "    path = [G[0][1]] + path\n",
    "    return path\n",
    "\n",
    "from math import ceil\n",
    "from time import sleep\n",
    "\n",
    "def displayedge(q0,q1,vel=2.): #vel in sec.    \n",
    "    '''Display the path obtained by linear interpolation of q0 to q1 at constant velocity vel'''\n",
    "    dist = distance(q0,q1)\n",
    "    duration = dist / vel    \n",
    "    nframes = ceil(48. * duration)\n",
    "    f = 1./48.\n",
    "    for i in range(nframes-1):\n",
    "        viz.display(lerp(q0,q1,float(i)/nframes))\n",
    "        sleep(f)\n",
    "    viz.display(q1)\n",
    "    sleep(f)\n",
    "    \n",
    "def displaypath(path):\n",
    "    for q0, q1 in zip(path[:-1],path[1:]):\n",
    "        displayedge(q0,q1)"
   ]
  },
  {
   "cell_type": "code",
   "execution_count": 15,
   "id": "e4e6fb4e",
   "metadata": {},
   "outputs": [
    {
     "name": "stdout",
     "output_type": "stream",
     "text": [
      "Wrapper tries to connect to server <tcp://127.0.0.1:6014>\n",
      "You can open the visualizer by visiting the following URL:\n",
      "http://127.0.0.1:7014/static/\n",
      "Found collision-free config after 230 gradient steps\n",
      "Max joint deviation: 0.5162 rad\n",
      "[-0.24051905  0.17957029 -0.02087817  0.2116478   0.04070837 -0.24179512\n",
      "  0.16557577  0.15497167  0.47355967  0.05279953 -0.458129    0.16209783\n",
      " -0.51618076  0.33426491 -0.01076589]\n",
      "Path found!\n"
     ]
    }
   ],
   "source": [
    "if __name__ == \"__main__\":\n",
    "    from tools import setupwithmeshcat\n",
    "    from setup_meshcat import updatevisuals\n",
    "    robot, cube, viz = setupwithmeshcat()\n",
    "    \n",
    "    q = robot.q0.copy()\n",
    "    \n",
    "    q0,successinit = computeqgrasppose(robot, q, cube, CUBE_PLACEMENT, viz)\n",
    "    G, foundpath = rrt(q0, RAND_CONF(robot), k, delta_q, robot)\n",
    "#     qe,successend = computeqgrasppose(robot, q, cube, CUBE_PLACEMENT_TARGET,  viz)\n",
    "    path = foundpath and getpath(G) or []\n",
    "    displaypath(path)\n",
    "    \n",
    "#     updatevisuals(viz, robot, cube, q0)"
   ]
  },
  {
   "cell_type": "code",
   "execution_count": null,
   "id": "85f3fdeb",
   "metadata": {},
   "outputs": [],
   "source": []
  },
  {
   "cell_type": "code",
   "execution_count": null,
   "id": "74d49ee8",
   "metadata": {},
   "outputs": [],
   "source": []
  }
 ],
 "metadata": {
  "kernelspec": {
   "display_name": "Python 3 (ipykernel)",
   "language": "python",
   "name": "python3"
  },
  "language_info": {
   "codemirror_mode": {
    "name": "ipython",
    "version": 3
   },
   "file_extension": ".py",
   "mimetype": "text/x-python",
   "name": "python",
   "nbconvert_exporter": "python",
   "pygments_lexer": "ipython3",
   "version": "3.12.3"
  }
 },
 "nbformat": 4,
 "nbformat_minor": 5
}
